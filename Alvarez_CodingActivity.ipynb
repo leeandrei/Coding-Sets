{
 "cells": [
  {
   "cell_type": "markdown",
   "metadata": {},
   "source": [
    "<h2>Coding Activity: Set Theory<b>"
   ]
  },
  {
   "cell_type": "markdown",
   "metadata": {},
   "source": [
    "<h5>Coded and Submitted by:<i>\n",
    "<h5><i>Alvarez, Lee Andrei D.<i>\n",
    "<h5><i>58006<i>"
   ]
  },
  {
   "cell_type": "code",
   "execution_count": 13,
   "metadata": {},
   "outputs": [],
   "source": [
    "RPG = [\"Genshin Impact\", \"Final Fantasy VII Remake\", \"Cyberpunk 2077\", \"Assassin's Creed Valhalla\", \"Wasteland III\"]\n",
    "FPS = [\"Valorant\", \"Call of Duty: Warzone\", \"PUBG\", \"Cyberpunk 2077\", \"Wasteland III\"]"
   ]
  },
  {
   "cell_type": "code",
   "execution_count": 17,
   "metadata": {},
   "outputs": [],
   "source": [
    "rpg = set(RPG)\n",
    "fps = set(FPS)"
   ]
  },
  {
   "cell_type": "markdown",
   "metadata": {},
   "source": [
    "<h2>Inner Join"
   ]
  },
  {
   "cell_type": "code",
   "execution_count": 18,
   "metadata": {},
   "outputs": [
    {
     "data": {
      "text/plain": [
       "{'Cyberpunk 2077', 'Wasteland III'}"
      ]
     },
     "execution_count": 18,
     "metadata": {},
     "output_type": "execute_result"
    }
   ],
   "source": [
    "common = rpg.intersection(fps)\n",
    "common"
   ]
  },
  {
   "cell_type": "markdown",
   "metadata": {},
   "source": [
    "<h2>Left Join"
   ]
  },
  {
   "cell_type": "code",
   "execution_count": 19,
   "metadata": {},
   "outputs": [
    {
     "data": {
      "text/plain": [
       "{\"Assassin's Creed Valhalla\",\n",
       " 'Cyberpunk 2077',\n",
       " 'Final Fantasy VII Remake',\n",
       " 'Genshin Impact',\n",
       " 'Wasteland III'}"
      ]
     },
     "execution_count": 19,
     "metadata": {},
     "output_type": "execute_result"
    }
   ],
   "source": [
    "RPG_ljoin = common.union(rpg)\n",
    "RPG_ljoin"
   ]
  },
  {
   "cell_type": "markdown",
   "metadata": {},
   "source": [
    "<h2>Right Join"
   ]
  },
  {
   "cell_type": "code",
   "execution_count": 20,
   "metadata": {},
   "outputs": [
    {
     "data": {
      "text/plain": [
       "{'Call of Duty: Warzone',\n",
       " 'Cyberpunk 2077',\n",
       " 'PUBG',\n",
       " 'Valorant',\n",
       " 'Wasteland III'}"
      ]
     },
     "execution_count": 20,
     "metadata": {},
     "output_type": "execute_result"
    }
   ],
   "source": [
    "FPS_rjoin = common.union(fps)\n",
    "FPS_rjoin "
   ]
  },
  {
   "cell_type": "markdown",
   "metadata": {},
   "source": [
    "<h2>Left Exclusive Join"
   ]
  },
  {
   "cell_type": "code",
   "execution_count": 22,
   "metadata": {},
   "outputs": [
    {
     "data": {
      "text/plain": [
       "{\"Assassin's Creed Valhalla\", 'Final Fantasy VII Remake', 'Genshin Impact'}"
      ]
     },
     "execution_count": 22,
     "metadata": {},
     "output_type": "execute_result"
    }
   ],
   "source": [
    "RPG_lexjoin = rpg.difference(fps)\n",
    "RPG_lexjoin "
   ]
  },
  {
   "cell_type": "markdown",
   "metadata": {},
   "source": [
    "<h2> Right Exclusive Join"
   ]
  },
  {
   "cell_type": "code",
   "execution_count": 23,
   "metadata": {},
   "outputs": [
    {
     "data": {
      "text/plain": [
       "{'Call of Duty: Warzone', 'PUBG', 'Valorant'}"
      ]
     },
     "execution_count": 23,
     "metadata": {},
     "output_type": "execute_result"
    }
   ],
   "source": [
    "FPS_rexjoin = fps.difference(rpg)\n",
    "FPS_rexjoin"
   ]
  },
  {
   "cell_type": "markdown",
   "metadata": {},
   "source": [
    "<h2>Full Outer Join"
   ]
  },
  {
   "cell_type": "code",
   "execution_count": 24,
   "metadata": {},
   "outputs": [
    {
     "data": {
      "text/plain": [
       "{\"Assassin's Creed Valhalla\",\n",
       " 'Call of Duty: Warzone',\n",
       " 'Cyberpunk 2077',\n",
       " 'Final Fantasy VII Remake',\n",
       " 'Genshin Impact',\n",
       " 'PUBG',\n",
       " 'Valorant',\n",
       " 'Wasteland III'}"
      ]
     },
     "execution_count": 24,
     "metadata": {},
     "output_type": "execute_result"
    }
   ],
   "source": [
    "FOJ = rpg.union(fps)\n",
    "FOJ"
   ]
  },
  {
   "cell_type": "markdown",
   "metadata": {},
   "source": [
    "<h2>Full Outer Exclusive Join"
   ]
  },
  {
   "cell_type": "code",
   "execution_count": 25,
   "metadata": {},
   "outputs": [
    {
     "data": {
      "text/plain": [
       "{\"Assassin's Creed Valhalla\",\n",
       " 'Call of Duty: Warzone',\n",
       " 'Final Fantasy VII Remake',\n",
       " 'Genshin Impact',\n",
       " 'PUBG',\n",
       " 'Valorant'}"
      ]
     },
     "execution_count": 25,
     "metadata": {},
     "output_type": "execute_result"
    }
   ],
   "source": [
    "FOXJ = (rpg.difference(fps)).union(fps.difference(rpg))\n",
    "FOXJ"
   ]
  },
  {
   "cell_type": "code",
   "execution_count": null,
   "metadata": {},
   "outputs": [],
   "source": []
  }
 ],
 "metadata": {
  "kernelspec": {
   "display_name": "Python 3",
   "language": "python",
   "name": "python3"
  },
  "language_info": {
   "codemirror_mode": {
    "name": "ipython",
    "version": 3
   },
   "file_extension": ".py",
   "mimetype": "text/x-python",
   "name": "python",
   "nbconvert_exporter": "python",
   "pygments_lexer": "ipython3",
   "version": "3.8.3"
  }
 },
 "nbformat": 4,
 "nbformat_minor": 4
}
